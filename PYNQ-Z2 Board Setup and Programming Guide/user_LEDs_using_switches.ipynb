{
 "cells": [
  {
   "cell_type": "code",
   "execution_count": null,
   "metadata": {},
   "outputs": [],
   "source": [
    "from time import sleep\n",
    "from pynq.overlays.base import BaseOverlay\n",
    "base = BaseOverlay(\"base.bit\")\n",
    "\n",
    "led0 = base.leds[0] #Corresponds to LED LD0\n",
    "led1 = base.leds[1] #Corresponds to LED LD1\n",
    "led2 = base.leds[2] #Corresponds to LED LD2\n",
    "led3 = base.leds[3] #Corresponds to LED LD3\n",
    "\n",
    "sw0 = base.switches[0] #Corresponds to SW0\n",
    "sw1 = base.switches[1] #Corresponds to SW1\n",
    "\n",
    "while(True):  # All the code below while(True) runs forever\n",
    "    if (sw0.read() == True):   # Reads SW0 and check if it toggled\n",
    "        led0.on()              # IF SW0 is ON --> Turn on LED0\n",
    "        led1.on()              # IF SW0 is ON --> Turn on LED1\n",
    "    else:\n",
    "        led0.off()             # ELSE Turn off LED0\n",
    "        led1.off()             # ELSE Turn off LED1\n",
    "    \n",
    "    if (sw1.read() == True):   # Reads SW1 and check if it toggled\n",
    "        led2.on()              # IF SW1 is ON --> Turn on LED2\n",
    "        led3.on()              # IF SW1 is ON --> Turn on LED3\n",
    "    else:\n",
    "        led2.off()             # ELSE Turn off LED2\n",
    "        led3.off()             # ELSE Turn off LED3"
   ]
  }
 ],
 "metadata": {
  "language_info": {
   "name": "python"
  }
 },
 "nbformat": 4,
 "nbformat_minor": 2
}
