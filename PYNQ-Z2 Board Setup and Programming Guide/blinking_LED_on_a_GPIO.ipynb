{
 "cells": [
  {
   "cell_type": "code",
   "execution_count": null,
   "metadata": {},
   "outputs": [],
   "source": [
    "from pynq.overlays.base import BaseOverlay\n",
    "from pynq.lib.arduino import Arduino_IO\n",
    "from time import sleep\n",
    "\n",
    "base = BaseOverlay(\"base.bit\")\n",
    "arduino_pin_d0 = Arduino_IO(base.ARDUINO, 7, 'out')\n",
    "\n",
    "while True:\n",
    "    arduino_pin_d0.write(1)  # Turn on LED\n",
    "    sleep(0.5)               # Wait for 0.5 seconds\n",
    "    arduino_pin_d0.write(0)  # Turn off LED\n",
    "    sleep(0.5)               # Wait for 0.5 seconds"
   ]
  }
 ],
 "metadata": {
  "language_info": {
   "name": "python"
  }
 },
 "nbformat": 4,
 "nbformat_minor": 2
}
